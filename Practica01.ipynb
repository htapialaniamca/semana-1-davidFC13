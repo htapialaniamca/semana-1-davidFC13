{
 "cells": [
  {
   "cell_type": "code",
   "execution_count": 1,
   "metadata": {},
   "outputs": [
    {
     "data": {
      "text/plain": [
       "['',\n",
       " '/home/davidfc/anaconda2/lib/python27.zip',\n",
       " '/home/davidfc/anaconda2/lib/python2.7',\n",
       " '/home/davidfc/anaconda2/lib/python2.7/plat-linux2',\n",
       " '/home/davidfc/anaconda2/lib/python2.7/lib-tk',\n",
       " '/home/davidfc/anaconda2/lib/python2.7/lib-old',\n",
       " '/home/davidfc/anaconda2/lib/python2.7/lib-dynload',\n",
       " '/home/davidfc/anaconda2/lib/python2.7/site-packages',\n",
       " '/home/davidfc/anaconda2/lib/python2.7/site-packages/IPython/extensions',\n",
       " '/home/davidfc/.ipython']"
      ]
     },
     "execution_count": 1,
     "metadata": {},
     "output_type": "execute_result"
    }
   ],
   "source": [
    "import sys\n",
    "sys.path"
   ]
  },
  {
   "cell_type": "code",
   "execution_count": 2,
   "metadata": {},
   "outputs": [
    {
     "data": {
      "text/plain": [
       "Result(id=0, result=None, error=None)"
      ]
     },
     "execution_count": 2,
     "metadata": {},
     "output_type": "execute_result"
    }
   ],
   "source": [
    "import android\n",
    "droide = android.Android()\n",
    "droide.makeToast(\"Hola mundo\")"
   ]
  },
  {
   "cell_type": "code",
   "execution_count": 3,
   "metadata": {},
   "outputs": [
    {
     "data": {
      "text/plain": [
       "Result(id=1, result=None, error=None)"
      ]
     },
     "execution_count": 3,
     "metadata": {},
     "output_type": "execute_result"
    }
   ],
   "source": [
    "droide.vibrate(1000)"
   ]
  },
  {
   "cell_type": "code",
   "execution_count": 4,
   "metadata": {},
   "outputs": [
    {
     "data": {
      "text/plain": [
       "Result(id=2, result=None, error=None)"
      ]
     },
     "execution_count": 4,
     "metadata": {},
     "output_type": "execute_result"
    }
   ],
   "source": [
    "droide.ttsSpeak(\"Hello world!\")"
   ]
  },
  {
   "cell_type": "code",
   "execution_count": 5,
   "metadata": {},
   "outputs": [],
   "source": [
    "droide.dialogCreateAlert(\"Titulo\",\"Opciones\")\n",
    "droide.dialogSetPositiveButtonText(\"Botón 1\")\n",
    "droide.dialogSetNegativeButtonText(\"Botón 2\")\n",
    "droide.dialogShow()\n",
    "if (droide.dialogGetResponse().result['which']=='positive'):\n",
    "    droide.makeToast(\"Uno\")\n",
    "else:\n",
    "    droide.makeToast(\"Dos\")"
   ]
  },
  {
   "cell_type": "code",
   "execution_count": 6,
   "metadata": {},
   "outputs": [],
   "source": [
    "droide.dialogCreateAlert(\"Titulo\",\"Opciones\")\n",
    "droide.dialogSetPositiveButtonText(\"Botón 1\")\n",
    "droide.dialogSetNegativeButtonText(\"Botón 2\")\n",
    "droide.dialogShow()\n",
    "if (droide.dialogGetResponse().result['which']=='positive'):\n",
    "    droide.makeToast(str(range(100)))\n",
    "else:\n",
    "    droide.makeToast(\"Dos\")"
   ]
  },
  {
   "cell_type": "code",
   "execution_count": 7,
   "metadata": {},
   "outputs": [
    {
     "data": {
      "text/plain": [
       "Result(id=17, result=None, error=None)"
      ]
     },
     "execution_count": 7,
     "metadata": {},
     "output_type": "execute_result"
    }
   ],
   "source": [
    "droide.ttsSpeak(\"Muevelo muevelo\")\n",
    "droide.vibrate(\"1000\")\n",
    "droide.makeToast(\"Muevelo\")"
   ]
  },
  {
   "cell_type": "code",
   "execution_count": 8,
   "metadata": {},
   "outputs": [
    {
     "data": {
      "text/plain": [
       "{u'gps': None,\n",
       " u'network': {u'accuracy': 22.825000762939453,\n",
       "  u'altitude': 0,\n",
       "  u'bearing': 0,\n",
       "  u'latitude': 19.5232672,\n",
       "  u'longitude': -96.9306008,\n",
       "  u'provider': u'network',\n",
       "  u'speed': 0,\n",
       "  u'time': 1521262708280},\n",
       " u'passive': {u'accuracy': 22.825000762939453,\n",
       "  u'altitude': 0,\n",
       "  u'bearing': 0,\n",
       "  u'latitude': 19.5232672,\n",
       "  u'longitude': -96.9306008,\n",
       "  u'provider': u'network',\n",
       "  u'speed': 0,\n",
       "  u'time': 1521262708280}}"
      ]
     },
     "execution_count": 8,
     "metadata": {},
     "output_type": "execute_result"
    }
   ],
   "source": [
    "droide.getLastKnownLocation().result"
   ]
  },
  {
   "cell_type": "code",
   "execution_count": 9,
   "metadata": {},
   "outputs": [
    {
     "data": {
      "text/plain": [
       "Result(id=21, result=None, error=None)"
      ]
     },
     "execution_count": 9,
     "metadata": {},
     "output_type": "execute_result"
    }
   ],
   "source": [
    "import datetime \n",
    "import requests\n",
    "\n",
    "loc = droide.getLastKnownLocation().result\n",
    "if loc[\"gps\"] is not None:\n",
    "    loc = loc[\"gps\"]\n",
    "else:\n",
    "    loc = loc[\"network\"]\n",
    "    \n",
    "lat=loc[\"latitude\"]\n",
    "lon=loc[\"longitude\"]\n",
    "direccion = droide.geocode(lat,lon)\n",
    "time = loc[\"time\"]\n",
    "FechaHora = datetime.datetime.fromtimestamp(time/1e3)\n",
    "Fechaok=FechaHora.strftime(\"%H %M %S del dia %A %d de %B del año %Y\")\n",
    "cp = direccion.result[0][\"postal_code\"]\n",
    "cc = direccion.result[0][\"country_code\"]\n",
    "ciu = direccion.result[0][\"locality\"]\n",
    "calle = direccion.result[0][\"thoroughfare\"]\n",
    "url=\"http://api.openweathermap.org/data/2.5/weather?zip={0},{1}&APPID=dfeea5e604e1948b28652216ad910d11\".format(cp,cc)\n",
    "\n",
    "r=requests.get(url).json()\n",
    "wdesc=r[\"weather\"][0]['description']\n",
    "mensaje='En la ciudad de '+ciu+' siendo las '+FechaHora.strftime(\"%H\")+' horas '+FechaHora.strftime(\"%M\")+' minutos '+FechaHora.strftime(\"%S\")+' segundos en la calle de '+calle+', el estado del tiempo es '+wdesc\n",
    "droide.ttsSpeak(mensaje)"
   ]
  },
  {
   "cell_type": "code",
   "execution_count": null,
   "metadata": {},
   "outputs": [],
   "source": []
  }
 ],
 "metadata": {
  "kernelspec": {
   "display_name": "Python 2",
   "language": "python",
   "name": "python2"
  },
  "language_info": {
   "codemirror_mode": {
    "name": "ipython",
    "version": 2
   },
   "file_extension": ".py",
   "mimetype": "text/x-python",
   "name": "python",
   "nbconvert_exporter": "python",
   "pygments_lexer": "ipython2",
   "version": "2.7.14"
  }
 },
 "nbformat": 4,
 "nbformat_minor": 2
}
